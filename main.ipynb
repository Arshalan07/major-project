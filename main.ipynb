{
 "cells": [
  {
   "cell_type": "code",
   "execution_count": 1,
   "id": "fbcef652-9f98-4240-8a42-0f166e374162",
   "metadata": {},
   "outputs": [
    {
     "name": "stderr",
     "output_type": "stream",
     "text": [
      "usage: ipykernel_launcher.py [-h] [--benchmark BENCHMARK] problem_file\n",
      "ipykernel_launcher.py: error: unrecognized arguments: -f\n"
     ]
    },
    {
     "ename": "SystemExit",
     "evalue": "2",
     "output_type": "error",
     "traceback": [
      "An exception has occurred, use %tb to see the full traceback.\n",
      "\u001b[1;31mSystemExit\u001b[0m\u001b[1;31m:\u001b[0m 2\n"
     ]
    },
    {
     "name": "stderr",
     "output_type": "stream",
     "text": [
      "C:\\Users\\arsha\\AppData\\Local\\Programs\\Python\\Python312\\Lib\\site-packages\\IPython\\core\\interactiveshell.py:3585: UserWarning: To exit: use 'exit', 'quit', or Ctrl-D.\n",
      "  warn(\"To exit: use 'exit', 'quit', or Ctrl-D.\", stacklevel=1)\n"
     ]
    }
   ],
   "source": [
    "import os\n",
    "import glob\n",
    "import argparse\n",
    "\n",
    "from VRPTW import *\n",
    "\n",
    "def arguments() -> argparse.Namespace:\n",
    "    parser = argparse.ArgumentParser(description='Solving VRPTW with heuristics')\n",
    "    parser.add_argument('problem_file', type=str, help='Problem file (in Solomon format)')\n",
    "    parser.add_argument('--benchmark', type=bool, default=False, help=\"Run solvers on all files in instances folder\")\n",
    "    return parser.parse_args()\n",
    "\n",
    "\n",
    "if __name__ == '__main__':\n",
    "    args = arguments()\n",
    "    if not os.path.exists('solutions'):\n",
    "        os.mkdir('solutions')\n",
    "    if args.benchmark:\n",
    "        for file in glob.glob('instances/*.txt'):\n",
    "            problem = SolomonFormatParser(file).get_problem()\n",
    "            solution = IteratedLocalSearch(problem).execute()\n",
    "            with open(f\"\"\"solutions/{file.split(os.sep)[1].split(\".\")[0]}.sol\"\"\", 'w') as f:\n",
    "                print(file.split(os.sep)[1].split(\".\")[0], problem.obj_func(solution))\n",
    "                f.write(problem.print_canonical(solution))\n",
    "    else:\n",
    "        assert os.path.exists(args.problem_file), \"Problem file doesn't exist\"\n",
    "        problem = SolomonFormatParser(args.problem_file).get_problem()\n",
    "        print(problem)\n",
    "        solution = IteratedLocalSearch(problem).execute()\n",
    "        with open(\"C:/Users/asnis/Desktop/VRPTW-master/VRPTW-master/solutions/ns.txt\", \"w\") as f:\n",
    "            f.write(problem.print_canonical(solution))"
   ]
  },
  {
   "cell_type": "code",
   "execution_count": 2,
   "id": "41e24d2e-b2ce-4563-998c-070e87f1f923",
   "metadata": {},
   "outputs": [
    {
     "name": "stderr",
     "output_type": "stream",
     "text": [
      "Traceback (most recent call last):\n",
      "  File \"C:\\Users\\arsha\\Desktop\\VRPTW-master\\VRPTW-master\\VRPTW-master\\main.ipynb\", line 5, in <module>\n",
      "    \"execution_count\": null,\n",
      "                       ^^^^\n",
      "NameError: name 'null' is not defined\n"
     ]
    }
   ],
   "source": [
    "!python main.ipynb 'Desktop/VRPTW-master/VRPTW-master/VRPTW-master/instances/C108.txt'"
   ]
  },
  {
   "cell_type": "code",
   "execution_count": null,
   "id": "03906fa0-0f50-4bbe-86ad-764f8a3fc21b",
   "metadata": {},
   "outputs": [],
   "source": []
  }
 ],
 "metadata": {
  "kernelspec": {
   "display_name": "Python 3 (ipykernel)",
   "language": "python",
   "name": "python3"
  },
  "language_info": {
   "codemirror_mode": {
    "name": "ipython",
    "version": 3
   },
   "file_extension": ".py",
   "mimetype": "text/x-python",
   "name": "python",
   "nbconvert_exporter": "python",
   "pygments_lexer": "ipython3",
   "version": "3.12.2"
  }
 },
 "nbformat": 4,
 "nbformat_minor": 5
}
